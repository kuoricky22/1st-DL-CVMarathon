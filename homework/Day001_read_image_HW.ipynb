{
 "cells": [
  {
   "cell_type": "markdown",
   "metadata": {},
   "source": [
    "# 作業\n",
    "\n",
    "思考一下我們前面有提到圖片是矩陣，但維度可能會不一樣\n",
    "例如灰階圖只有兩個維度，RGB 彩圖則有 3 個維度\n",
    "\n",
    "假如今天我們把 RGB 3 個維度拆開來看會有甚麼不同的效果呢？"
   ]
  },
  {
   "cell_type": "code",
   "execution_count": 6,
   "metadata": {},
   "outputs": [],
   "source": [
    "import numpy as np\n",
    "import cv2\n",
    "img_Path = 'D:\\Python Learning\\images\\lena.png'\n",
    "\n",
    "img = cv2.imread(img_Path , cv2.IMREAD_COLOR) #讀取要處理的照片並設定為彩色\n",
    "cv2.imshow('rgb', img) #顯示 RGB照片\n",
    "B,G,R = cv2.split(img) #分離照片中R,G,B的通道\n",
    "\n",
    "zeros = np.zeros(img.shape[:2],dtype=\"uint8\") #創建與img相同大小的零矩陣\n",
    "cv2.imshow('Blue', cv2.merge([B,zeros,zeros])) #顯示 B照片\n",
    "cv2.imshow('Green', cv2.merge([zeros,G,zeros])) #顯示 G照片\n",
    "cv2.imshow('Red', cv2.merge([zeros,zeros,R])) #顯示 R照片\n",
    "cv2.waitKey(0)\n",
    "cv2.destroyAllWindows()"
   ]
  },
  {
   "cell_type": "code",
   "execution_count": null,
   "metadata": {},
   "outputs": [],
   "source": []
  }
 ],
 "metadata": {
  "kernelspec": {
   "display_name": "Python 3",
   "language": "python",
   "name": "python3"
  },
  "language_info": {
   "codemirror_mode": {
    "name": "ipython",
    "version": 3
   },
   "file_extension": ".py",
   "mimetype": "text/x-python",
   "name": "python",
   "nbconvert_exporter": "python",
   "pygments_lexer": "ipython3",
   "version": "3.7.4"
  }
 },
 "nbformat": 4,
 "nbformat_minor": 2
}
